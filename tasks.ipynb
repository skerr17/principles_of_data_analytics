{
 "cells": [
  {
   "cell_type": "markdown",
   "metadata": {},
   "source": [
    "# **Principles of Data Analytics - Tasks**\n",
    "\n",
    "### Authored by: Stephen Kerr"
   ]
  },
  {
   "cell_type": "markdown",
   "metadata": {},
   "source": [
    "#### **Assessment Links:**\n",
    "\n",
    "- The Tasks Descriptions are outlined in the following link: [Assessment Description][def1]\n",
    "- The Marking Scheme is outlined in the following link: [Assesment Marking Scheme][def2] \n",
    "\n",
    "\n",
    "[def1]: https://github.com/ianmcloughlin/principles_of_data_analytics/blob/main/assessment/tasks.md\n",
    "[def2]: https://github.com/ianmcloughlin/principles_of_data_analytics/blob/main/assessment/instructions.md"
   ]
  },
  {
   "cell_type": "markdown",
   "metadata": {},
   "source": [
    "## **Task 1: Source the Data Set**\n"
   ]
  },
  {
   "cell_type": "markdown",
   "metadata": {},
   "source": [
    "### **Task 1 Description:**\n",
    "\n",
    "Import the Iris data set from the sklearn.datasets module.  \n",
    "Explain, in your own words, what the load_iris() function returns."
   ]
  },
  {
   "cell_type": "markdown",
   "metadata": {},
   "source": [
    "### **Task 1 Submission:**\n",
    "\n",
    "The **load_iris()** function loads the Iris dataset which is classic multi-class classification dataset.  \n",
    "The dataset is imported as a *'Bunch'* which is a dictionary like-object with the following attributes:  \n",
    "- **'data'** which is the data matrix.\n",
    "- **'target'** which is the classification target.\n",
    "- **'feature_name'** which is a list of the dataset columns.\n",
    "- **'target_names'** which is a list of the target classes.\n",
    "- **'data'** attribute being a pandas Dataframe.\n",
    "- **'target'** attribute is a pandas Series.\n",
    "- **'DESCR'** which is a string that is a full desciption of the dataset.\n",
    "- **'filename'** which is a sting showing the path to the location of the data.\n",
    "\n",
    "The iris data was loaded with the parameter ***'as_frame'*** set as *True* resulting in:\n",
    "\n",
    "\n",
    "There is also an *additional attribute* when the load_iris() is loaded with the ***'as_frame'*** = *True*, called **'frame'** which is a pandas DataFrame with the combination of data and target. \n",
    "\n",
    "---\n",
    "\n",
    "## References: \n",
    "\n",
    "1. [![load_iris](https://tse4.mm.bing.net/th?id=OIP.Hf2oXZgEGL98vH30SEeZQQAAAA&pid=Api&P=0&h=180) Click the image to learn more about load_iris](https://scikit-learn.org/stable/modules/generated/sklearn.datasets.load_iris.html)\n",
    "2. [Markdown Syntax Cheatsheet](https://www.markdown-cheatsheet.com/ \"Here the title goes\")"
   ]
  },
  {
   "cell_type": "code",
   "execution_count": 1,
   "metadata": {},
   "outputs": [
    {
     "name": "stdout",
     "output_type": "stream",
     "text": [
      "The following are the Attributes of the Iris Data 'Bunch':\n",
      "\tdata\n",
      "\ttarget\n",
      "\tframe - This is the main source of the data.\n",
      "\ttarget_names\n",
      "\tDESCR\n",
      "\tfeature_names\n",
      "\tfilename\n",
      "\tdata_module\n",
      "['setosa' 'versicolor' 'virginica']\n"
     ]
    }
   ],
   "source": [
    "# import sklearn\n",
    "import sklearn as skl\n",
    "import numpy as np\n",
    "\n",
    "# Load the iris data set as 'data_bunch'.\n",
    "# Note, used the parameter 'as_frame' = True to get the data in a pandas DataFrame.\n",
    "iris = skl.datasets.load_iris(as_frame=True)\n",
    "\n",
    "# printed the 'iris' data bunch attributes / keys\n",
    "print(f'The following are the Attributes of the Iris Data \\'Bunch\\':' )\n",
    "for key in iris.keys():\n",
    "    if key == 'frame':\n",
    "        print(f'\\t{key} - This is the main source of the data.') \n",
    "    else: \n",
    "        print(f'\\t{key}')\n",
    "\n",
    "# Print out the Target Names\n",
    "print(iris['target_names'])\n",
    "\n",
    "# In the Iris Data Bunch the 'frame' DataFrame is the key store of data, \n",
    "# To compleete the DataFrame we need to add in a 'species' column,\n",
    "# In order to the assign each row to the appropraite species class ['setosa' 'versicolor' 'virginica'],\n",
    "# We use the map() method the 'target' column of the 'frame' DataFrame and the 'target_names' list,\n",
    "iris['frame']['species'] = iris['frame']['target'].map({0: 'setosa', 1: 'versicolor', 2: 'virginica'})\n",
    "\n",
    "# Asigning the 'iris_dataframe' as 'iris['frame'] \n",
    "iris_dataframe = iris['frame']"
   ]
  },
  {
   "cell_type": "markdown",
   "metadata": {},
   "source": [
    "## **Task 2: Explore the Data Structure**"
   ]
  },
  {
   "cell_type": "markdown",
   "metadata": {},
   "source": [
    "### **Task 2 Description:** \n",
    "\n",
    "Print and explain the shape of the data set, the first and last 5 rows of the data, the feature names, and the target classes."
   ]
  },
  {
   "cell_type": "markdown",
   "metadata": {},
   "source": [
    "### **Task 2 Submission:**\n",
    "\n"
   ]
  },
  {
   "cell_type": "markdown",
   "metadata": {},
   "source": [
    "The target classes where assigned to the ***'iris_dataframe'*** in the last section."
   ]
  },
  {
   "cell_type": "code",
   "execution_count": 3,
   "metadata": {},
   "outputs": [
    {
     "name": "stdout",
     "output_type": "stream",
     "text": [
      "The shape of the Iris Dataset ('iris_dataframe') is: \n",
      " \tRows (instances) = 150,\n",
      " \tColumns (features) = 6,\n",
      "\n"
     ]
    }
   ],
   "source": [
    "# Shape of iris dataset - Note we added the 'species' column \n",
    "print(f'The shape of the Iris Dataset (\\'iris_dataframe\\') is: '\n",
    "      f'\\n \\tRows (instances) = {iris_dataframe.shape[0]},'\n",
    "      f'\\n \\tColumns (features) = {iris_dataframe.shape[1]},\\n')"
   ]
  },
  {
   "cell_type": "code",
   "execution_count": null,
   "metadata": {},
   "outputs": [
    {
     "data": {
      "text/html": [
       "<style type=\"text/css\">\n",
       "</style>\n",
       "<table id=\"T_abeac\">\n",
       "  <thead>\n",
       "    <tr>\n",
       "      <th class=\"blank level0\" >&nbsp;</th>\n",
       "      <th id=\"T_abeac_level0_col0\" class=\"col_heading level0 col0\" >sepal length (cm)</th>\n",
       "      <th id=\"T_abeac_level0_col1\" class=\"col_heading level0 col1\" >sepal width (cm)</th>\n",
       "      <th id=\"T_abeac_level0_col2\" class=\"col_heading level0 col2\" >petal length (cm)</th>\n",
       "      <th id=\"T_abeac_level0_col3\" class=\"col_heading level0 col3\" >petal width (cm)</th>\n",
       "      <th id=\"T_abeac_level0_col4\" class=\"col_heading level0 col4\" >target</th>\n",
       "      <th id=\"T_abeac_level0_col5\" class=\"col_heading level0 col5\" >species</th>\n",
       "    </tr>\n",
       "  </thead>\n",
       "  <tbody>\n",
       "    <tr>\n",
       "      <th id=\"T_abeac_level0_row0\" class=\"row_heading level0 row0\" >0</th>\n",
       "      <td id=\"T_abeac_row0_col0\" class=\"data row0 col0\" >5.100000</td>\n",
       "      <td id=\"T_abeac_row0_col1\" class=\"data row0 col1\" >3.500000</td>\n",
       "      <td id=\"T_abeac_row0_col2\" class=\"data row0 col2\" >1.400000</td>\n",
       "      <td id=\"T_abeac_row0_col3\" class=\"data row0 col3\" >0.200000</td>\n",
       "      <td id=\"T_abeac_row0_col4\" class=\"data row0 col4\" >0</td>\n",
       "      <td id=\"T_abeac_row0_col5\" class=\"data row0 col5\" >setosa</td>\n",
       "    </tr>\n",
       "    <tr>\n",
       "      <th id=\"T_abeac_level0_row1\" class=\"row_heading level0 row1\" >1</th>\n",
       "      <td id=\"T_abeac_row1_col0\" class=\"data row1 col0\" >4.900000</td>\n",
       "      <td id=\"T_abeac_row1_col1\" class=\"data row1 col1\" >3.000000</td>\n",
       "      <td id=\"T_abeac_row1_col2\" class=\"data row1 col2\" >1.400000</td>\n",
       "      <td id=\"T_abeac_row1_col3\" class=\"data row1 col3\" >0.200000</td>\n",
       "      <td id=\"T_abeac_row1_col4\" class=\"data row1 col4\" >0</td>\n",
       "      <td id=\"T_abeac_row1_col5\" class=\"data row1 col5\" >setosa</td>\n",
       "    </tr>\n",
       "    <tr>\n",
       "      <th id=\"T_abeac_level0_row2\" class=\"row_heading level0 row2\" >2</th>\n",
       "      <td id=\"T_abeac_row2_col0\" class=\"data row2 col0\" >4.700000</td>\n",
       "      <td id=\"T_abeac_row2_col1\" class=\"data row2 col1\" >3.200000</td>\n",
       "      <td id=\"T_abeac_row2_col2\" class=\"data row2 col2\" >1.300000</td>\n",
       "      <td id=\"T_abeac_row2_col3\" class=\"data row2 col3\" >0.200000</td>\n",
       "      <td id=\"T_abeac_row2_col4\" class=\"data row2 col4\" >0</td>\n",
       "      <td id=\"T_abeac_row2_col5\" class=\"data row2 col5\" >setosa</td>\n",
       "    </tr>\n",
       "    <tr>\n",
       "      <th id=\"T_abeac_level0_row3\" class=\"row_heading level0 row3\" >3</th>\n",
       "      <td id=\"T_abeac_row3_col0\" class=\"data row3 col0\" >4.600000</td>\n",
       "      <td id=\"T_abeac_row3_col1\" class=\"data row3 col1\" >3.100000</td>\n",
       "      <td id=\"T_abeac_row3_col2\" class=\"data row3 col2\" >1.500000</td>\n",
       "      <td id=\"T_abeac_row3_col3\" class=\"data row3 col3\" >0.200000</td>\n",
       "      <td id=\"T_abeac_row3_col4\" class=\"data row3 col4\" >0</td>\n",
       "      <td id=\"T_abeac_row3_col5\" class=\"data row3 col5\" >setosa</td>\n",
       "    </tr>\n",
       "    <tr>\n",
       "      <th id=\"T_abeac_level0_row4\" class=\"row_heading level0 row4\" >4</th>\n",
       "      <td id=\"T_abeac_row4_col0\" class=\"data row4 col0\" >5.000000</td>\n",
       "      <td id=\"T_abeac_row4_col1\" class=\"data row4 col1\" >3.600000</td>\n",
       "      <td id=\"T_abeac_row4_col2\" class=\"data row4 col2\" >1.400000</td>\n",
       "      <td id=\"T_abeac_row4_col3\" class=\"data row4 col3\" >0.200000</td>\n",
       "      <td id=\"T_abeac_row4_col4\" class=\"data row4 col4\" >0</td>\n",
       "      <td id=\"T_abeac_row4_col5\" class=\"data row4 col5\" >setosa</td>\n",
       "    </tr>\n",
       "  </tbody>\n",
       "</table>\n"
      ],
      "text/plain": [
       "<pandas.io.formats.style.Styler at 0x7b46f8568b30>"
      ]
     },
     "execution_count": 4,
     "metadata": {},
     "output_type": "execute_result"
    }
   ],
   "source": [
    "# The first 5 rows of the Iris Data Set using the .head() and .style Pandas method: \n",
    "# Reference https://www.delftstack.com/howto/python-pandas/pandas-display-dataframe-in-a-table-style/\n",
    "iris_dataframe.head().style"
   ]
  },
  {
   "cell_type": "code",
   "execution_count": 5,
   "metadata": {},
   "outputs": [
    {
     "data": {
      "text/html": [
       "<style type=\"text/css\">\n",
       "</style>\n",
       "<table id=\"T_efb16\">\n",
       "  <thead>\n",
       "    <tr>\n",
       "      <th class=\"blank level0\" >&nbsp;</th>\n",
       "      <th id=\"T_efb16_level0_col0\" class=\"col_heading level0 col0\" >sepal length (cm)</th>\n",
       "      <th id=\"T_efb16_level0_col1\" class=\"col_heading level0 col1\" >sepal width (cm)</th>\n",
       "      <th id=\"T_efb16_level0_col2\" class=\"col_heading level0 col2\" >petal length (cm)</th>\n",
       "      <th id=\"T_efb16_level0_col3\" class=\"col_heading level0 col3\" >petal width (cm)</th>\n",
       "      <th id=\"T_efb16_level0_col4\" class=\"col_heading level0 col4\" >target</th>\n",
       "      <th id=\"T_efb16_level0_col5\" class=\"col_heading level0 col5\" >species</th>\n",
       "    </tr>\n",
       "  </thead>\n",
       "  <tbody>\n",
       "    <tr>\n",
       "      <th id=\"T_efb16_level0_row0\" class=\"row_heading level0 row0\" >145</th>\n",
       "      <td id=\"T_efb16_row0_col0\" class=\"data row0 col0\" >6.700000</td>\n",
       "      <td id=\"T_efb16_row0_col1\" class=\"data row0 col1\" >3.000000</td>\n",
       "      <td id=\"T_efb16_row0_col2\" class=\"data row0 col2\" >5.200000</td>\n",
       "      <td id=\"T_efb16_row0_col3\" class=\"data row0 col3\" >2.300000</td>\n",
       "      <td id=\"T_efb16_row0_col4\" class=\"data row0 col4\" >2</td>\n",
       "      <td id=\"T_efb16_row0_col5\" class=\"data row0 col5\" >virginica</td>\n",
       "    </tr>\n",
       "    <tr>\n",
       "      <th id=\"T_efb16_level0_row1\" class=\"row_heading level0 row1\" >146</th>\n",
       "      <td id=\"T_efb16_row1_col0\" class=\"data row1 col0\" >6.300000</td>\n",
       "      <td id=\"T_efb16_row1_col1\" class=\"data row1 col1\" >2.500000</td>\n",
       "      <td id=\"T_efb16_row1_col2\" class=\"data row1 col2\" >5.000000</td>\n",
       "      <td id=\"T_efb16_row1_col3\" class=\"data row1 col3\" >1.900000</td>\n",
       "      <td id=\"T_efb16_row1_col4\" class=\"data row1 col4\" >2</td>\n",
       "      <td id=\"T_efb16_row1_col5\" class=\"data row1 col5\" >virginica</td>\n",
       "    </tr>\n",
       "    <tr>\n",
       "      <th id=\"T_efb16_level0_row2\" class=\"row_heading level0 row2\" >147</th>\n",
       "      <td id=\"T_efb16_row2_col0\" class=\"data row2 col0\" >6.500000</td>\n",
       "      <td id=\"T_efb16_row2_col1\" class=\"data row2 col1\" >3.000000</td>\n",
       "      <td id=\"T_efb16_row2_col2\" class=\"data row2 col2\" >5.200000</td>\n",
       "      <td id=\"T_efb16_row2_col3\" class=\"data row2 col3\" >2.000000</td>\n",
       "      <td id=\"T_efb16_row2_col4\" class=\"data row2 col4\" >2</td>\n",
       "      <td id=\"T_efb16_row2_col5\" class=\"data row2 col5\" >virginica</td>\n",
       "    </tr>\n",
       "    <tr>\n",
       "      <th id=\"T_efb16_level0_row3\" class=\"row_heading level0 row3\" >148</th>\n",
       "      <td id=\"T_efb16_row3_col0\" class=\"data row3 col0\" >6.200000</td>\n",
       "      <td id=\"T_efb16_row3_col1\" class=\"data row3 col1\" >3.400000</td>\n",
       "      <td id=\"T_efb16_row3_col2\" class=\"data row3 col2\" >5.400000</td>\n",
       "      <td id=\"T_efb16_row3_col3\" class=\"data row3 col3\" >2.300000</td>\n",
       "      <td id=\"T_efb16_row3_col4\" class=\"data row3 col4\" >2</td>\n",
       "      <td id=\"T_efb16_row3_col5\" class=\"data row3 col5\" >virginica</td>\n",
       "    </tr>\n",
       "    <tr>\n",
       "      <th id=\"T_efb16_level0_row4\" class=\"row_heading level0 row4\" >149</th>\n",
       "      <td id=\"T_efb16_row4_col0\" class=\"data row4 col0\" >5.900000</td>\n",
       "      <td id=\"T_efb16_row4_col1\" class=\"data row4 col1\" >3.000000</td>\n",
       "      <td id=\"T_efb16_row4_col2\" class=\"data row4 col2\" >5.100000</td>\n",
       "      <td id=\"T_efb16_row4_col3\" class=\"data row4 col3\" >1.800000</td>\n",
       "      <td id=\"T_efb16_row4_col4\" class=\"data row4 col4\" >2</td>\n",
       "      <td id=\"T_efb16_row4_col5\" class=\"data row4 col5\" >virginica</td>\n",
       "    </tr>\n",
       "  </tbody>\n",
       "</table>\n"
      ],
      "text/plain": [
       "<pandas.io.formats.style.Styler at 0x7b46c9978050>"
      ]
     },
     "execution_count": 5,
     "metadata": {},
     "output_type": "execute_result"
    }
   ],
   "source": [
    "# The last 5 rows of the Iris Data Set using the .tail() and .style Pandas method:\n",
    "iris_dataframe.tail().style"
   ]
  },
  {
   "cell_type": "code",
   "execution_count": 6,
   "metadata": {},
   "outputs": [
    {
     "name": "stdout",
     "output_type": "stream",
     "text": [
      "The follwing is all the feature names and target classes for the Iris Dataset:\n",
      "\t 1. sepal length (cm) is a feature name.\n",
      "\t 2. sepal width (cm) is a feature name.\n",
      "\t 3. petal length (cm) is a feature name.\n",
      "\t 4. petal width (cm) is a feature name.\n",
      "\t 5. target is a target class.\n",
      "\t 6. species is a target class.\n"
     ]
    }
   ],
   "source": [
    "# The feature names are:\n",
    "print('The follwing is all the feature names and target classes for the Iris Dataset:')\n",
    "for i, key in enumerate(iris_dataframe.keys(), start=1):\n",
    "    if key == 'target' or key == 'species':\n",
    "        print(f'\\t {i}. {key} is a target class.')\n",
    "    else: \n",
    "        print(f'\\t {i}. {key} is a feature name.')\n",
    "\n",
    "\n",
    "# Note previously we added in a new column that assigns each row to the appropriate target class. \n",
    "# Could replace the 'target' column with the 'species' to cutdown on data"
   ]
  },
  {
   "cell_type": "code",
   "execution_count": 38,
   "metadata": {},
   "outputs": [
    {
     "name": "stdout",
     "output_type": "stream",
     "text": [
      "The number of setosa in the datset = 50\n",
      "Which is a percentage of 33.33%\n",
      "\n",
      "The number of versicolor in the datset = 50\n",
      "Which is a percentage of 33.33%\n",
      "\n",
      "The number of virginica in the datset = 50\n",
      "Which is a percentage of 33.33%\n",
      "\n"
     ]
    }
   ],
   "source": [
    "# Subsetting the 'iris_dataframe' by the 'species' \n",
    "# Reference https://app.datacamp.com/\n",
    "\n",
    "# creating the 'setosa_DataFrame'\n",
    "setosa_Dataframe = iris_dataframe[iris_dataframe['species'] == 'setosa']\n",
    "# displaying the total number of 'setosa' in the dataset\n",
    "print(f'The number of setosa in the datset = {setosa_Dataframe.shape[0]}'\n",
    "      f'\\nWhich is a percentage of {((setosa_Dataframe.shape[0]/iris_dataframe.shape[0])*100):.2f}%\\n')\n",
    "\n",
    "# creating the 'versicolor_DataFrame'\n",
    "versicolor_Dataframe = iris_dataframe[iris_dataframe['species'] == 'versicolor']\n",
    "# displaying the total number of 'setosa' in the dataset\n",
    "print(f'The number of versicolor in the datset = {versicolor_Dataframe.shape[0]}'\n",
    "      f'\\nWhich is a percentage of {((versicolor_Dataframe.shape[0]/iris_dataframe.shape[0])*100):.2f}%\\n')\n",
    "\n",
    "# creating the 'virginica_DataFrame'\n",
    "virginica_Dataframe = iris_dataframe[iris_dataframe['species'] == 'virginica']\n",
    "# displaying the total number of 'setosa' in the dataset\n",
    "print(f'The number of virginica in the datset = {virginica_Dataframe.shape[0]}'\n",
    "      f'\\nWhich is a percentage of {((virginica_Dataframe.shape[0]/iris_dataframe.shape[0])*100):.2f}%\\n')\n",
    "\n"
   ]
  },
  {
   "cell_type": "markdown",
   "metadata": {},
   "source": [
    "## **Task 3: Summarize the Data**"
   ]
  },
  {
   "cell_type": "markdown",
   "metadata": {},
   "source": [
    "### **Task Description:** \n",
    "\n",
    "For each feature in the dataset, calculate and display:\n",
    "\n",
    "- mean\n",
    "- minimum\n",
    "- maximum\n",
    "- standard deviation\n",
    "- median"
   ]
  },
  {
   "cell_type": "markdown",
   "metadata": {},
   "source": [
    "### **Task 3 Submission:**"
   ]
  },
  {
   "cell_type": "markdown",
   "metadata": {},
   "source": [
    "In the code below you can see that the mean, minimum, maximum, standard deviation, median for the Feature Names of the Iris dataset, and in the species subset."
   ]
  },
  {
   "cell_type": "code",
   "execution_count": null,
   "metadata": {},
   "outputs": [
    {
     "name": "stdout",
     "output_type": "stream",
     "text": [
      "The following are the descriptive statistics for the feature: sepal length (cm)\n",
      "mean: 5.843333333333334\n",
      "std: 0.828066127977863\n",
      "min: 4.3\n",
      "median: 5.8\n",
      "max: 7.9\n",
      "\n",
      "\n",
      "The following are the descriptive statistics for the feature: sepal width (cm)\n",
      "mean: 3.0573333333333337\n",
      "std: 0.4358662849366982\n",
      "min: 2.0\n",
      "median: 3.0\n",
      "max: 4.4\n",
      "\n",
      "\n",
      "The following are the descriptive statistics for the feature: petal length (cm)\n",
      "mean: 3.7580000000000005\n",
      "std: 1.7652982332594662\n",
      "min: 1.0\n",
      "median: 4.35\n",
      "max: 6.9\n",
      "\n",
      "\n",
      "The following are the descriptive statistics for the feature: petal width (cm)\n",
      "mean: 1.1993333333333336\n",
      "std: 0.7622376689603465\n",
      "min: 0.1\n",
      "median: 1.3\n",
      "max: 2.5\n",
      "\n",
      "\n",
      "The following are the descriptive statistics for the feature: target\n",
      "mean: 1.0\n",
      "std: 0.8192319205190405\n",
      "min: 0.0\n",
      "median: 1.0\n",
      "max: 2.0\n",
      "\n",
      "\n",
      "The following are the descriptive statistics for the feature: species\n",
      "unique: 3\n",
      "top: setosa\n",
      "freq: 50\n",
      "\n",
      "\n"
     ]
    }
   ],
   "source": [
    "# use the describe() method to get the descriptive statistics of the features in the iris dataset\n",
    "# Reference: https://pandas.pydata.org/pandas-docs/stable/reference/api/pandas.DataFrame.describe.html\n",
    "# Reference: https://www.geeksforgeeks.org/python-pandas-dataframe-describe-method/\n",
    "\n",
    "# creating a function to print the descriptive statistics of a given feature\n",
    "def statistic_print(feature, statistics):\n",
    "    print(f'The following are the descriptive statistics for the feature: {feature}')\n",
    "    for stat_name, stat_value in statistics.items():\n",
    "        if stat_name == '50%': # changing the '50%' to 'median'\n",
    "            stat_name = 'median'\n",
    "        elif stat_name == 'count': # skipping the 'count' statistic as requested\n",
    "            continue\n",
    "        elif stat_name == '25%': # skipping the '25%' statistic as requested\n",
    "            continue\n",
    "        elif stat_name == '75%': # skipping the '75%' statistic as requested\n",
    "            continue\n",
    "        print(f'{stat_name}: {stat_value}') # printing out each statistic\n",
    "    print('\\n')\n",
    "\n",
    "# looping though the features 1. Creating, 2. Printing the descriptive statistics \n",
    "for feature in iris_dataframe.keys():\n",
    "    statistics = iris_dataframe[feature].describe()\n",
    "    statistic_print(feature, statistics)\n"
   ]
  },
  {
   "cell_type": "markdown",
   "metadata": {},
   "source": [
    "## Task 4: Visualize Features"
   ]
  },
  {
   "cell_type": "markdown",
   "metadata": {},
   "source": [
    "### ***Task Description:*** \n",
    "\n",
    "Plot histograms for each feature using matplotlib.  \n",
    "Add appropriate titles and axis labels."
   ]
  },
  {
   "cell_type": "markdown",
   "metadata": {},
   "source": [
    "### ***Task 4 Submission:***"
   ]
  },
  {
   "cell_type": "code",
   "execution_count": 39,
   "metadata": {},
   "outputs": [
    {
     "data": {
      "image/png": "[encoded data removed]",
      "text/plain": [
       "<Figure size 800x400 with 1 Axes>"
      ]
     },
     "metadata": {},
     "output_type": "display_data"
    },
    {
     "data": {
      "image/png": "[encoded data removed]",
      "text/plain": [
       "<Figure size 800x400 with 1 Axes>"
      ]
     },
     "metadata": {},
     "output_type": "display_data"
    },
    {
     "data": {
      "image/png": "[encoded data removed]",
      "text/plain": [
       "<Figure size 800x400 with 1 Axes>"
      ]
     },
     "metadata": {},
     "output_type": "display_data"
    },
    {
     "data": {
      "image/png": "[encoded data removed]",
      "text/plain": [
       "<Figure size 800x400 with 1 Axes>"
      ]
     },
     "metadata": {},
     "output_type": "display_data"
    }
   ],
   "source": [
    "import matplotlib.pyplot as plt\n",
    "\n",
    "# Plot histograms for each feature\n",
    "features = iris_dataframe.columns[:-2]  # Exclude 'target' and 'species' columns\n",
    "\n",
    "for feature in features:\n",
    "    plt.figure(figsize=(8, 4))\n",
    "    plt.hist(iris_dataframe[feature], bins=20, edgecolor='k', alpha=0.7)\n",
    "    plt.title(f'Histogram of {feature}')\n",
    "    plt.xlabel(feature)\n",
    "    plt.ylabel('Frequency')\n",
    "    plt.grid(True)\n",
    "    plt.show()"
   ]
  },
  {
   "cell_type": "markdown",
   "metadata": {},
   "source": [
    "## Task 5: Investigate Relationships"
   ]
  },
  {
   "cell_type": "markdown",
   "metadata": {},
   "source": [
    "### Task Description: \n",
    "\n",
    "XYZ"
   ]
  },
  {
   "cell_type": "markdown",
   "metadata": {},
   "source": []
  },
  {
   "cell_type": "markdown",
   "metadata": {},
   "source": [
    "## Task 6: Analyze  Relationships"
   ]
  },
  {
   "cell_type": "markdown",
   "metadata": {},
   "source": [
    "### Task Description: \n",
    "\n",
    "XYZ"
   ]
  },
  {
   "cell_type": "code",
   "execution_count": null,
   "metadata": {},
   "outputs": [],
   "source": []
  },
  {
   "cell_type": "markdown",
   "metadata": {},
   "source": [
    "## Task 7: Analyze  Class Distributions"
   ]
  },
  {
   "cell_type": "markdown",
   "metadata": {},
   "source": [
    "### Task Description: \n",
    "\n",
    "XYZ"
   ]
  },
  {
   "cell_type": "code",
   "execution_count": null,
   "metadata": {},
   "outputs": [],
   "source": []
  },
  {
   "cell_type": "markdown",
   "metadata": {},
   "source": [
    "## Task 8: Compute Correlations"
   ]
  },
  {
   "cell_type": "markdown",
   "metadata": {},
   "source": [
    "### Task Description: \n",
    "\n",
    "XYZ"
   ]
  },
  {
   "cell_type": "code",
   "execution_count": null,
   "metadata": {},
   "outputs": [],
   "source": []
  },
  {
   "cell_type": "markdown",
   "metadata": {},
   "source": [
    "## Task 9: Fit a Simple Linear Regression"
   ]
  },
  {
   "cell_type": "markdown",
   "metadata": {},
   "source": [
    "### Task Description: \n",
    "\n",
    "XYZ"
   ]
  },
  {
   "cell_type": "code",
   "execution_count": null,
   "metadata": {},
   "outputs": [],
   "source": []
  },
  {
   "cell_type": "markdown",
   "metadata": {},
   "source": [
    "## Task 10: Too Many Features "
   ]
  },
  {
   "cell_type": "markdown",
   "metadata": {},
   "source": [
    "### Task Description: \n",
    "\n",
    "XYZ"
   ]
  },
  {
   "cell_type": "code",
   "execution_count": null,
   "metadata": {},
   "outputs": [],
   "source": []
  },
  {
   "cell_type": "markdown",
   "metadata": {},
   "source": [
    "# End"
   ]
  }
 ],
 "metadata": {
  "kernelspec": {
   "display_name": "Python 3",
   "language": "python",
   "name": "python3"
  },
  "language_info": {
   "codemirror_mode": {
    "name": "ipython",
    "version": 3
   },
   "file_extension": ".py",
   "mimetype": "text/x-python",
   "name": "python",
   "nbconvert_exporter": "python",
   "pygments_lexer": "ipython3",
   "version": "3.12.1"
  }
 },
 "nbformat": 4,
 "nbformat_minor": 2
}
