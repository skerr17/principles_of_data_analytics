{
 "cells": [
  {
   "cell_type": "markdown",
   "metadata": {},
   "source": [
    "# **Principles of Data Analytics - Tasks**\n",
    "\n",
    "### Authored by: Stephen Kerr"
   ]
  },
  {
   "cell_type": "markdown",
   "metadata": {},
   "source": [
    "#### **Assessment Links**\n",
    "\n",
    "- The Tasks Descriptions are outlined in the following link: [Assessment Description][def1]\n",
    "- The Marking Scheme is outlined in the following link: [Assesment Marking Scheme][def2] \n",
    "\n",
    "\n",
    "[def1]: https://github.com/ianmcloughlin/principles_of_data_analytics/blob/main/assessment/tasks.md\n",
    "[def2]: https://github.com/ianmcloughlin/principles_of_data_analytics/blob/main/assessment/instructions.md"
   ]
  },
  {
   "cell_type": "markdown",
   "metadata": {},
   "source": [
    "## **Task 1: Source the Data Set**\n"
   ]
  },
  {
   "cell_type": "markdown",
   "metadata": {},
   "source": [
    "### **Task 1 Description**\n",
    "\n",
    "Import the Iris data set from the sklearn.datasets module.  \n",
    "Explain, in your own words, what the load_iris() function returns."
   ]
  },
  {
   "cell_type": "markdown",
   "metadata": {},
   "source": [
    "### **Task 1 Submission:**\n",
    "\n",
    "The **load_iris()** function loads the Iris dataset which is classic multi-class classification dataset.  \n",
    "The dataset is imported as a *'Bunch'* which is a dictionary like-object with the following attributes:  \n",
    "- **'data'** which is the data matrix.\n",
    "- **'target'** which is the classification target.\n",
    "- **'feature_name'** which is a list of the dataset columns.\n",
    "- **'target_names'** which is a list of the target classes.\n",
    "- **'data'** attribute being a pandas Dataframe.\n",
    "- **'target'** attribute is a pandas Series.\n",
    "- **'DESCR'** which is a string that is a full desciption of the dataset.\n",
    "- **'filename'** which is a sting showing the path to the location of the data.\n",
    "\n",
    "The iris data was loaded with the parameter ***'as_frame'*** set as *True* resulting in:\n",
    "\n",
    "\n",
    "There is also an *additional attribute* when the load_iris() is loaded with the ***'as_frame'*** = *True*, called **'frame'** which is a pandas DataFrame with the combination of data and target. \n",
    "\n",
    "---\n",
    "\n",
    "## References: \n",
    "\n",
    "1. [![load_iris](https://tse4.mm.bing.net/th?id=OIP.Hf2oXZgEGL98vH30SEeZQQAAAA&pid=Api&P=0&h=180) Click the image to learn more about load_iris](https://scikit-learn.org/stable/modules/generated/sklearn.datasets.load_iris.html)\n",
    "2. [Markdown Syntax Cheatsheet](https://www.markdown-cheatsheet.com/ \"Here the title goes\")"
   ]
  },
  {
   "cell_type": "code",
   "execution_count": 58,
   "metadata": {},
   "outputs": [
    {
     "name": "stdout",
     "output_type": "stream",
     "text": [
      "dict_keys(['data', 'target', 'frame', 'target_names', 'DESCR', 'feature_names', 'filename', 'data_module'])\n",
      "['setosa' 'versicolor' 'virginica']\n",
      "     sepal length (cm)  sepal width (cm)  petal length (cm)  petal width (cm)  \\\n",
      "0                  5.1               3.5                1.4               0.2   \n",
      "1                  4.9               3.0                1.4               0.2   \n",
      "2                  4.7               3.2                1.3               0.2   \n",
      "3                  4.6               3.1                1.5               0.2   \n",
      "4                  5.0               3.6                1.4               0.2   \n",
      "..                 ...               ...                ...               ...   \n",
      "145                6.7               3.0                5.2               2.3   \n",
      "146                6.3               2.5                5.0               1.9   \n",
      "147                6.5               3.0                5.2               2.0   \n",
      "148                6.2               3.4                5.4               2.3   \n",
      "149                5.9               3.0                5.1               1.8   \n",
      "\n",
      "     target    species  \n",
      "0         0     setosa  \n",
      "1         0     setosa  \n",
      "2         0     setosa  \n",
      "3         0     setosa  \n",
      "4         0     setosa  \n",
      "..      ...        ...  \n",
      "145       2  virginica  \n",
      "146       2  virginica  \n",
      "147       2  virginica  \n",
      "148       2  virginica  \n",
      "149       2  virginica  \n",
      "\n",
      "[150 rows x 6 columns]\n"
     ]
    }
   ],
   "source": [
    "# import sklearn\n",
    "import sklearn as skl\n",
    "\n",
    "# Load the iris data set as 'data_bunch'.\n",
    "# Note, used the parameter 'as_frame' = True to get the data in a pandas DataFrame.\n",
    "iris = skl.datasets.load_iris(as_frame=True)\n",
    "\n",
    "# printed the 'iris' data bunch attributes / keys\n",
    "print(iris.keys())\n",
    "\n",
    "# Print out the Target Names\n",
    "print(iris['target_names'])\n",
    "\n",
    "# The main 'frame' DataFrame the main store of data \n",
    "# Add in a 'species' column to the 'frame' Dataframe,\n",
    "# In order to the assign each row to the appropraite species class ['setosa' 'versicolor' 'virginica']\n",
    "# We use the map() method the 'target' column of the 'frame' DataFrame and the 'target_names' list\n",
    "iris['frame']['species'] = iris['frame']['target'].map({0: 'setosa', 1: 'versicolor', 2: 'virginica'})\n",
    "\n",
    "print(iris['frame'])"
   ]
  },
  {
   "cell_type": "markdown",
   "metadata": {},
   "source": [
    "## **Task 2: Explore the Data Structure**"
   ]
  },
  {
   "cell_type": "markdown",
   "metadata": {},
   "source": [
    "### **Task 2 Description:** \n",
    "\n",
    "Print and explain the shape of the data set, the first and last 5 rows of the data, the feature names, and the target classes."
   ]
  },
  {
   "cell_type": "markdown",
   "metadata": {},
   "source": [
    "### **Task 2 Submission**\n",
    "\n"
   ]
  },
  {
   "cell_type": "code",
   "execution_count": 60,
   "metadata": {},
   "outputs": [
    {
     "name": "stdout",
     "output_type": "stream",
     "text": [
      "The shape of the Iris Data Set is: \n",
      " \tRows (instances) = 150,\n",
      " \tColumns (features) = 6,\n",
      "\n",
      "This means the Iris Data Set has 150 Rows and 6 Columns.\n",
      "Totaling 900 Unique Data points.\n",
      "\n"
     ]
    }
   ],
   "source": [
    "# Shape of iris dataset\n",
    "print(f'The shape of the Iris Data Set is: '\n",
    "      f'\\n \\tRows (instances) = {iris['frame'].shape[0]},'\n",
    "      f'\\n \\tColumns (features) = {iris['frame'].shape[1]},\\n')\n",
    "\n",
    "print(f'This means the Iris Data Set has {iris['frame'].shape[0]} Rows and' \n",
    "      f' {iris['frame'].shape[1]} Columns.' \n",
    "      f'\\nTotaling {int(iris['frame'].shape[0]) * int(iris['frame'].shape[1])} Unique Data points.\\n')"
   ]
  },
  {
   "cell_type": "code",
   "execution_count": 61,
   "metadata": {},
   "outputs": [
    {
     "name": "stdout",
     "output_type": "stream",
     "text": [
      "   sepal length (cm)  sepal width (cm)  petal length (cm)  petal width (cm)  \\\n",
      "0                5.1               3.5                1.4               0.2   \n",
      "1                4.9               3.0                1.4               0.2   \n",
      "2                4.7               3.2                1.3               0.2   \n",
      "3                4.6               3.1                1.5               0.2   \n",
      "4                5.0               3.6                1.4               0.2   \n",
      "\n",
      "   target species  \n",
      "0       0  setosa  \n",
      "1       0  setosa  \n",
      "2       0  setosa  \n",
      "3       0  setosa  \n",
      "4       0  setosa  \n"
     ]
    }
   ],
   "source": [
    "# The first 5 rows of the Iris Data Set using the .head() Pandas method: \n",
    "print(iris['frame'].head())"
   ]
  },
  {
   "cell_type": "code",
   "execution_count": 62,
   "metadata": {},
   "outputs": [
    {
     "name": "stdout",
     "output_type": "stream",
     "text": [
      "     sepal length (cm)  sepal width (cm)  petal length (cm)  petal width (cm)  \\\n",
      "145                6.7               3.0                5.2               2.3   \n",
      "146                6.3               2.5                5.0               1.9   \n",
      "147                6.5               3.0                5.2               2.0   \n",
      "148                6.2               3.4                5.4               2.3   \n",
      "149                5.9               3.0                5.1               1.8   \n",
      "\n",
      "     target    species  \n",
      "145       2  virginica  \n",
      "146       2  virginica  \n",
      "147       2  virginica  \n",
      "148       2  virginica  \n",
      "149       2  virginica  \n"
     ]
    }
   ],
   "source": [
    "# The last 5 rows of the Iris Data Set using the .tail() Pandas method:\n",
    "print(iris['frame'].tail())"
   ]
  },
  {
   "cell_type": "code",
   "execution_count": 73,
   "metadata": {},
   "outputs": [
    {
     "name": "stdout",
     "output_type": "stream",
     "text": [
      "The follwing is all the feature names for the Iris Data Set:\n",
      "\t 1. sepal length (cm)\n",
      "\t 2. sepal width (cm)\n",
      "\t 3. petal length (cm)\n",
      "\t 4. petal width (cm)\n"
     ]
    }
   ],
   "source": [
    "# The feature names are:\n",
    "print('The follwing is all the feature names for the Iris Data Set:')\n",
    "for n, i in enumerate(iris['feature_names'], start=1):\n",
    "    print(f'\\t {n}. {i}')"
   ]
  },
  {
   "cell_type": "code",
   "execution_count": 74,
   "metadata": {},
   "outputs": [
    {
     "name": "stdout",
     "output_type": "stream",
     "text": [
      "The follwing is all the target names for the Iris Data Set:\n",
      "\t 1. setosa\n",
      "\t 2. versicolor\n",
      "\t 3. virginica\n"
     ]
    }
   ],
   "source": [
    "# The target classes\n",
    "\n",
    "print('The follwing is all the target names for the Iris Data Set:')\n",
    "for n,i in enumerate(iris['target_names'], start=1):\n",
    "    print(f'\\t {n}. {i}')\n",
    "\n",
    "# Note previously we added in a new column that assigns each row to the appropriate target class. \n"
   ]
  },
  {
   "cell_type": "markdown",
   "metadata": {},
   "source": [
    "## **Task 3: Summarize the Data**"
   ]
  },
  {
   "cell_type": "markdown",
   "metadata": {},
   "source": [
    "### **Task Description:** \n",
    "\n",
    "For each feature in the dataset, calculate and display:\n",
    "\n",
    "- mean\n",
    "- minimum\n",
    "- maximum\n",
    "- standard deviation\n",
    "- median"
   ]
  },
  {
   "cell_type": "code",
   "execution_count": 72,
   "metadata": {},
   "outputs": [
    {
     "name": "stdout",
     "output_type": "stream",
     "text": [
      "['sepal length (cm)', 'sepal width (cm)', 'petal length (cm)', 'petal width (cm)']\n"
     ]
    }
   ],
   "source": [
    "print(iris['feature_names'])"
   ]
  },
  {
   "cell_type": "markdown",
   "metadata": {},
   "source": [
    "## Task 4: Visualize Features"
   ]
  },
  {
   "cell_type": "markdown",
   "metadata": {},
   "source": [
    "### Task Description: \n",
    "\n",
    "XYZ"
   ]
  },
  {
   "cell_type": "markdown",
   "metadata": {},
   "source": []
  },
  {
   "cell_type": "markdown",
   "metadata": {},
   "source": [
    "## Task 5: Investigate Relationships"
   ]
  },
  {
   "cell_type": "markdown",
   "metadata": {},
   "source": [
    "### Task Description: \n",
    "\n",
    "XYZ"
   ]
  },
  {
   "cell_type": "markdown",
   "metadata": {},
   "source": []
  },
  {
   "cell_type": "markdown",
   "metadata": {},
   "source": [
    "## Task 6: Analyze  Relationships"
   ]
  },
  {
   "cell_type": "markdown",
   "metadata": {},
   "source": [
    "### Task Description: \n",
    "\n",
    "XYZ"
   ]
  },
  {
   "cell_type": "code",
   "execution_count": null,
   "metadata": {},
   "outputs": [],
   "source": []
  },
  {
   "cell_type": "markdown",
   "metadata": {},
   "source": [
    "## Task 7: Analyze  Class Distributions"
   ]
  },
  {
   "cell_type": "markdown",
   "metadata": {},
   "source": [
    "### Task Description: \n",
    "\n",
    "XYZ"
   ]
  },
  {
   "cell_type": "code",
   "execution_count": null,
   "metadata": {},
   "outputs": [],
   "source": []
  },
  {
   "cell_type": "markdown",
   "metadata": {},
   "source": [
    "## Task 8: Compute Correlations"
   ]
  },
  {
   "cell_type": "markdown",
   "metadata": {},
   "source": [
    "### Task Description: \n",
    "\n",
    "XYZ"
   ]
  },
  {
   "cell_type": "code",
   "execution_count": null,
   "metadata": {},
   "outputs": [],
   "source": []
  },
  {
   "cell_type": "markdown",
   "metadata": {},
   "source": [
    "## Task 9: Fit a Simple Linear Regression"
   ]
  },
  {
   "cell_type": "markdown",
   "metadata": {},
   "source": [
    "### Task Description: \n",
    "\n",
    "XYZ"
   ]
  },
  {
   "cell_type": "code",
   "execution_count": null,
   "metadata": {},
   "outputs": [],
   "source": []
  },
  {
   "cell_type": "markdown",
   "metadata": {},
   "source": [
    "## Task 10: Too Many Features "
   ]
  },
  {
   "cell_type": "markdown",
   "metadata": {},
   "source": [
    "### Task Description: \n",
    "\n",
    "XYZ"
   ]
  },
  {
   "cell_type": "code",
   "execution_count": null,
   "metadata": {},
   "outputs": [],
   "source": []
  },
  {
   "cell_type": "markdown",
   "metadata": {},
   "source": [
    "# End"
   ]
  }
 ],
 "metadata": {
  "kernelspec": {
   "display_name": "Python 3",
   "language": "python",
   "name": "python3"
  },
  "language_info": {
   "codemirror_mode": {
    "name": "ipython",
    "version": 3
   },
   "file_extension": ".py",
   "mimetype": "text/x-python",
   "name": "python",
   "nbconvert_exporter": "python",
   "pygments_lexer": "ipython3",
   "version": "3.12.1"
  }
 },
 "nbformat": 4,
 "nbformat_minor": 2
}
