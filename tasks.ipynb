{
 "cells": [
  {
   "cell_type": "markdown",
   "metadata": {},
   "source": [
    "# **Principles of Data Analytics - Tasks**\n",
    "\n",
    "### Authored by: Stephen Kerr"
   ]
  },
  {
   "cell_type": "markdown",
   "metadata": {},
   "source": [
    "#### **Assessment Links**\n",
    "\n",
    "- The Tasks Descriptions are outlined in the following link: [Assessment Description][def1]\n",
    "- The Marking Scheme is outlined in the following link: [Assesment Marking Scheme][def2] \n",
    "\n",
    "\n",
    "[def1]: https://github.com/ianmcloughlin/principles_of_data_analytics/blob/main/assessment/tasks.md\n",
    "[def2]: https://github.com/ianmcloughlin/principles_of_data_analytics/blob/main/assessment/instructions.md"
   ]
  },
  {
   "cell_type": "markdown",
   "metadata": {},
   "source": [
    "## **Task 1: Source the Data Set**\n"
   ]
  },
  {
   "cell_type": "markdown",
   "metadata": {},
   "source": [
    "### **Task 1 Description**\n",
    "\n",
    "Import the Iris data set from the sklearn.datasets module.  \n",
    "Explain, in your own words, what the load_iris() function returns."
   ]
  },
  {
   "cell_type": "markdown",
   "metadata": {},
   "source": [
    "### **Task 1 Submission:**\n",
    "\n",
    "The **load_iris()** function loads the Iris dataset which is classic multi-class classification dataset.  \n",
    "The dataset is imported as a *'Bunch'* object with the following attributes:  \n",
    "- **'data'** which is the data matrix.\n",
    "- **'target'** which is the classification target.\n",
    "- **'feature_name'** which is a list of the dataset columns.\n",
    "- **'target_names'** which is a list of the target classes.\n",
    "\n",
    "The iris data was loaded with the parameter ***'as_frame'*** set as *True* resulting in:\n",
    "- **'data'** attribute being a pandas Dataframe.\n",
    "- **'target'** attribute is a pandas Series.\n",
    "\n",
    "There is also an *additional attribute* when the load_iris() is loaded with the 'as_frame' = *True*, called **'frame'** which is a pandas DataFrame with the combination of data and target. \n",
    "\n",
    "---\n",
    "\n",
    "## References: \n",
    "\n",
    "1. [![load_iris](https://tse4.mm.bing.net/th?id=OIP.Hf2oXZgEGL98vH30SEeZQQAAAA&pid=Api&P=0&h=180) Click the image to learn more about load_iris](https://scikit-learn.org/stable/modules/generated/sklearn.datasets.load_iris.html)\n",
    "2. [Markdown Syntax Cheatsheet](https://www.markdown-cheatsheet.com/ \"Here the title goes\")"
   ]
  },
  {
   "cell_type": "code",
   "execution_count": 5,
   "metadata": {},
   "outputs": [
    {
     "name": "stdout",
     "output_type": "stream",
     "text": [
      "dict_keys(['data', 'target', 'frame', 'target_names', 'DESCR', 'feature_names', 'filename', 'data_module'])\n"
     ]
    }
   ],
   "source": [
    "# Ojective: Import the Iris data set from sklearn.datasets module\n",
    "# Author: Stephen Kerr\n",
    "\n",
    "# import sklearn\n",
    "import sklearn as skl\n",
    "\n",
    "# Load the iris data set as 'data_bunch'.\n",
    "# Note, used the parameter 'as_frame' = True to get the data in a pandas DataFrame.\n",
    "\n",
    "iris_data_bunch = skl.datasets.load_iris(as_frame=True)\n",
    "\n",
    "# printed the 'iris_data_bunch' bunch\n",
    "#print(iris_data_bunch)\n",
    "\n",
    "#printed the 'frame' DataFrame \n",
    "#print(iris_data_bunch['frame'])\n",
    "\n",
    "print(iris_data_bunch.keys())\n"
   ]
  },
  {
   "cell_type": "markdown",
   "metadata": {},
   "source": [
    "## Task 2: Explore the Data Structure"
   ]
  },
  {
   "cell_type": "markdown",
   "metadata": {},
   "source": [
    "### **Task 2 Description:** \n",
    "\n",
    "Print and explain the shape of the data set, the first and last 5 rows of the data, the feature names, and the target classes."
   ]
  },
  {
   "cell_type": "markdown",
   "metadata": {},
   "source": [
    "### **Task 2 Submission**\n",
    "\n"
   ]
  },
  {
   "cell_type": "code",
   "execution_count": 4,
   "metadata": {},
   "outputs": [
    {
     "name": "stdout",
     "output_type": "stream",
     "text": [
      "The shape of the Iris Data Set is: \n",
      " \t \t \t \t   Rows (instances) = 150,\n",
      " \t \t \t \t   Columns (features) = 5,\n",
      "\n",
      "This means the Iris Data Set has Rows 150 and 5 Columns.\n",
      "Or 750 Unique Data points.\n",
      "\n",
      "sepal length (cm)    150\n",
      "sepal width (cm)     150\n",
      "petal length (cm)    150\n",
      "petal width (cm)     150\n",
      "target               150\n",
      "dtype: int64\n"
     ]
    }
   ],
   "source": [
    "# Shape of iris dataset\n",
    "print(f'The shape of the Iris Data Set is: '\n",
    "      f'\\n \\t \\t \\t \\t   Rows (instances) = {iris_data_bunch['frame'].shape[0]},'\n",
    "      f'\\n \\t \\t \\t \\t   Columns (features) = {iris_data_bunch['frame'].shape[1]},\\n')\n",
    "\n",
    "print(f'This means the Iris Data Set has Rows {iris_data_bunch['frame'].shape[0]} and' \n",
    "      f' {iris_data_bunch['frame'].shape[1]} Columns.' \n",
    "      f'\\nOr {int(iris_data_bunch['frame'].shape[0]) * int(iris_data_bunch['frame'].shape[1])} Unique Data points.\\n')\n",
    "\n",
    "\n",
    "#print(f'The first five rows are the following:  {iris_data_bunch['frame'].head}')\n",
    "\n",
    "print(iris_data_bunch['frame'].count())\n"
   ]
  },
  {
   "cell_type": "markdown",
   "metadata": {},
   "source": [
    "## Task 3: Summarize the Data"
   ]
  },
  {
   "cell_type": "markdown",
   "metadata": {},
   "source": [
    "### Task Description: \n",
    "\n",
    "XYZ"
   ]
  },
  {
   "cell_type": "code",
   "execution_count": null,
   "metadata": {},
   "outputs": [],
   "source": []
  },
  {
   "cell_type": "markdown",
   "metadata": {},
   "source": [
    "## Task 4: Visualize Features"
   ]
  },
  {
   "cell_type": "markdown",
   "metadata": {},
   "source": [
    "### Task Description: \n",
    "\n",
    "XYZ"
   ]
  },
  {
   "cell_type": "markdown",
   "metadata": {},
   "source": []
  },
  {
   "cell_type": "markdown",
   "metadata": {},
   "source": [
    "## Task 5: Investigate Relationships"
   ]
  },
  {
   "cell_type": "markdown",
   "metadata": {},
   "source": [
    "### Task Description: \n",
    "\n",
    "XYZ"
   ]
  },
  {
   "cell_type": "markdown",
   "metadata": {},
   "source": []
  },
  {
   "cell_type": "markdown",
   "metadata": {},
   "source": [
    "## Task 6: Analyze  Relationships"
   ]
  },
  {
   "cell_type": "markdown",
   "metadata": {},
   "source": [
    "### Task Description: \n",
    "\n",
    "XYZ"
   ]
  },
  {
   "cell_type": "code",
   "execution_count": null,
   "metadata": {},
   "outputs": [],
   "source": []
  },
  {
   "cell_type": "markdown",
   "metadata": {},
   "source": [
    "## Task 7: Analyze  Class Distributions"
   ]
  },
  {
   "cell_type": "markdown",
   "metadata": {},
   "source": [
    "### Task Description: \n",
    "\n",
    "XYZ"
   ]
  },
  {
   "cell_type": "code",
   "execution_count": null,
   "metadata": {},
   "outputs": [],
   "source": []
  },
  {
   "cell_type": "markdown",
   "metadata": {},
   "source": [
    "## Task 8: Compute Correlations"
   ]
  },
  {
   "cell_type": "markdown",
   "metadata": {},
   "source": [
    "### Task Description: \n",
    "\n",
    "XYZ"
   ]
  },
  {
   "cell_type": "code",
   "execution_count": null,
   "metadata": {},
   "outputs": [],
   "source": []
  },
  {
   "cell_type": "markdown",
   "metadata": {},
   "source": [
    "## Task 9: Fit a Simple Linear Regression"
   ]
  },
  {
   "cell_type": "markdown",
   "metadata": {},
   "source": [
    "### Task Description: \n",
    "\n",
    "XYZ"
   ]
  },
  {
   "cell_type": "code",
   "execution_count": null,
   "metadata": {},
   "outputs": [],
   "source": []
  },
  {
   "cell_type": "markdown",
   "metadata": {},
   "source": [
    "## Task 10: Too Many Features "
   ]
  },
  {
   "cell_type": "markdown",
   "metadata": {},
   "source": [
    "### Task Description: \n",
    "\n",
    "XYZ"
   ]
  },
  {
   "cell_type": "code",
   "execution_count": null,
   "metadata": {},
   "outputs": [],
   "source": []
  },
  {
   "cell_type": "markdown",
   "metadata": {},
   "source": [
    "# End"
   ]
  }
 ],
 "metadata": {
  "kernelspec": {
   "display_name": "Python 3",
   "language": "python",
   "name": "python3"
  },
  "language_info": {
   "codemirror_mode": {
    "name": "ipython",
    "version": 3
   },
   "file_extension": ".py",
   "mimetype": "text/x-python",
   "name": "python",
   "nbconvert_exporter": "python",
   "pygments_lexer": "ipython3",
   "version": "3.12.1"
  }
 },
 "nbformat": 4,
 "nbformat_minor": 2
}
